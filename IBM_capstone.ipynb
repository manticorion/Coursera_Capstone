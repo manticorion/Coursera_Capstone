{
 "cells": [
  {
   "cell_type": "markdown",
   "metadata": {},
   "source": [
    "# Capstone Project\n",
    "\n",
    "## IBM Data Science Professional Certificate\n",
    "## Battle of the neighborhoods\n",
    "\n",
    "This notebook starts the capstone project. This will be a foundation upon which the rest will be built. So far, only the outlines of the project are clear:\n",
    "* The problem will have to do with geographical information\n",
    "* The problem will involve data scouring\n",
    "* The problem will involve Foursquare integration\n",
    "\n",
    "### Week 1 log\n",
    "\n",
    "* Started a Github repository for the project\n",
    "* Started a Notebook\n",
    "* Pushed the Notebook to repository\n",
    "* Posted link for review"
   ]
  },
  {
   "cell_type": "code",
   "execution_count": 1,
   "metadata": {},
   "outputs": [
    {
     "name": "stdout",
     "output_type": "stream",
     "text": [
      "Hello Capstone Project Course!\n"
     ]
    }
   ],
   "source": [
    "import pandas as pd\n",
    "import numpy as np\n",
    "\n",
    "print (\"Hello Capstone Project Course!\")"
   ]
  },
  {
   "cell_type": "code",
   "execution_count": null,
   "metadata": {},
   "outputs": [],
   "source": []
  }
 ],
 "metadata": {
  "kernelspec": {
   "display_name": "Python 3",
   "language": "python",
   "name": "python3"
  },
  "language_info": {
   "codemirror_mode": {
    "name": "ipython",
    "version": 3
   },
   "file_extension": ".py",
   "mimetype": "text/x-python",
   "name": "python",
   "nbconvert_exporter": "python",
   "pygments_lexer": "ipython3",
   "version": "3.7.6"
  }
 },
 "nbformat": 4,
 "nbformat_minor": 4
}
